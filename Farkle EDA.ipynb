{
 "cells": [
  {
   "cell_type": "code",
   "execution_count": 12,
   "metadata": {},
   "outputs": [],
   "source": [
    "import random\n",
    "import sys\n",
    "\n",
    "# This method can be tweaked for testing\n",
    "def dice(n): # Returns n dice numbers (totally random) - tested\n",
    "    return [random.randint(1, 6) for i in range(n)]\n",
    "\n",
    "\n",
    "# Some tests for different scoring combos:\n",
    "\n",
    "def unique(roll):\n",
    "    u = []\n",
    "    for r in roll:\n",
    "        if r not in u:\n",
    "            u.append(r)\n",
    "    return u\n",
    "\n",
    "def test_for_3oak(roll):\n",
    "    u = unique(roll)\n",
    "    for r in u:\n",
    "        if roll.count(r) >= 3: # <<<<<<<<<< cases with >3 handled by player\n",
    "            return True, r\n",
    "    return False, 0\n",
    "\n",
    "def test_for_3pairs(roll):\n",
    "    u = unique(roll)\n",
    "    twos = 0\n",
    "    for r in u:\n",
    "        if roll.count(r) == 2:\n",
    "            twos += 1\n",
    "    if twos == 3:\n",
    "        return True\n",
    "    return False\n",
    "\n",
    "def test_for_23s(roll):\n",
    "    u = unique(roll)\n",
    "    threes = 0\n",
    "    for r in u:\n",
    "        if roll.count(r) == 3:\n",
    "            threes += 1\n",
    "    if threes == 2:\n",
    "        return True\n",
    "    return False\n",
    "\n",
    "def test_for_run(roll):\n",
    "    if len(unique(roll)) == 6:\n",
    "        return True\n",
    "    return False\n",
    "\n",
    "# This is the base class, that implements a simple player who keeps 1s and 5s and rolls again if they have 3 or more dice left.\n",
    "# To build a more complex player, one simply adds a child class and overrides the process_roll function.\n",
    "class BasicPlayer:\n",
    "    def __init__(self, name):\n",
    "        self.name = name\n",
    "        self.score = 0\n",
    "        self.temp_score = 0\n",
    "        self.keeping = []\n",
    "\n",
    "    def process_roll(self, roll):\n",
    "        # Knows temp score, score and current roll. Adds dice to self.keeping and optionally rolls again.\n",
    "        # Returns: (roll_again (bool), fail (bool - true if no points scored))\n",
    "        # Go through dice looking for high scoring patterns << Add patterns\n",
    "        self.kept = 0 # How many dice kept (must be at least 1 else turn ends)\n",
    "        for d in roll:\n",
    "            if d == 1:\n",
    "                self.keeping.append(1)\n",
    "                self.kept += 1\n",
    "                self.temp_score += 100\n",
    "            if d == 5:\n",
    "                self.keeping.append(5)\n",
    "                self.kept += 1\n",
    "                self.temp_score += 50\n",
    "        if (self.kept) == 0:\n",
    "            return (False, True) # Scored no points this roll\n",
    "        elif len(self.keeping) > 3:\n",
    "            return (False, False) # Scored points, 2 or fewer dice remain (so don't roll again)\n",
    "        else:\n",
    "            return (True, False) # Scored points, and there are 3 or more dice to play with - recomment roll again.\n",
    "\n",
    "    def turn(self, verbose=False):\n",
    "        # Reset some variables\n",
    "        self.temp_score = 0\n",
    "        self.keeping = []\n",
    "        # Roll the dice\n",
    "        roll = dice(6)\n",
    "        if verbose:print('Player %s: rolled ' % self.name + str(roll))\n",
    "        # Process the roll. If roll_again is true, keep rolling until it isn't or a roll fails\n",
    "        roll_again, fail = self.process_roll(roll)\n",
    "        if fail:\n",
    "            if verbose:print('     - %s: No points this roll, total score: ' % self.name + str(self.score))\n",
    "            self.temp_score = 0\n",
    "        elif roll_again:\n",
    "            while roll_again:\n",
    "                if verbose:print('     - %s: Keeping ' % self.name + str(self.keeping) + ' for temp_score of ' + str(self.temp_score) + ', total score: ' + str(self.score))\n",
    "                # If all 6 used must roll again, with 6 dice (so empty keeping)\n",
    "                if len(self.keeping) == 6:\n",
    "                    self.keeping = []\n",
    "                roll = dice(6 - len(self.keeping))\n",
    "                if verbose:print('     - %s: rolled ' % self.name + str(roll))\n",
    "                roll_again, fail = self.process_roll(roll)\n",
    "                if fail:\n",
    "                    if verbose:print('     - %s: No points this roll, total score: ' % self.name + str(self.score))\n",
    "                    self.temp_score = 0\n",
    "                # Otherwise, roll_again determines how many times this loop runs\n",
    "        # Update the score - turn has ended.\n",
    "        self.score += self.temp_score\n",
    "        if verbose:print('     - %s: Turn over. ' % self.name + 'Kept:'+ str(self.keeping) + ', turn score:' + str(self.temp_score) + ', total score: ' + str(self.score))\n",
    "\n",
    "\n",
    "\n",
    "class AllRules(BasicPlayer):\n",
    "\n",
    "    def pull_highs(self, roll):\n",
    "        # 2 3OAKS\n",
    "        if test_for_23s(roll):\n",
    "            for d in roll:\n",
    "                self.keeping.append(d)\n",
    "                roll.remove(d)\n",
    "                self.kept += 1\n",
    "                self.temp_score += 2500\n",
    "\n",
    "        # 3 pairs:\n",
    "        if test_for_3pairs(roll):\n",
    "            for d in roll:\n",
    "                self.keeping.append(d)\n",
    "                roll.remove(d)\n",
    "                self.kept += 1\n",
    "                self.temp_score += 2000\n",
    "\n",
    "        # Run (1, 2, 3, 4, 5, 6)\n",
    "        if test_for_run(roll):\n",
    "            for d in roll:\n",
    "                self.keeping.append(d)\n",
    "                roll.remove(d)\n",
    "                self.kept += 1\n",
    "                self.temp_score += 1500\n",
    "        return roll\n",
    "\n",
    "    def pull_3oak(self, roll):\n",
    "        # 3oak:\n",
    "        thr, num = test_for_3oak(roll)\n",
    "        if thr:\n",
    "            for n in [num, num, num]:\n",
    "                self.keeping.append(num)\n",
    "                roll.remove(num)\n",
    "                self.kept += 1\n",
    "            s = num*100 # The score for this\n",
    "            if num == 1: s = 1000 # one is a special case\n",
    "            # If there are any extras of that number (more than three total), we double the score for each\n",
    "            while roll.count(num) > 0:\n",
    "                self.keeping.append(num)\n",
    "                roll.remove(num)\n",
    "                self.kept += 1\n",
    "                s = s*2\n",
    "            self.temp_score += s\n",
    "        return roll\n",
    "\n",
    "\n",
    "    def process_roll(self, roll):\n",
    "        # Knows temp score, score and current roll. Adds dice to self.keeping and optionally rolls again.\n",
    "        # Returns: (roll_again (bool), fail (bool - true if no points scored))\n",
    "        # Go through dice looking for high scoring patterns << Add patterns\n",
    "        self.kept = 0 # How many dice kept (must be at least 1 else turn ends)\n",
    "\n",
    "        roll = self.pull_highs(roll)\n",
    "\n",
    "        roll = self.pull_3oak(roll)\n",
    "\n",
    "\n",
    "        # 1s and 5s:\n",
    "        for d in roll:\n",
    "            if d == 1:\n",
    "                self.keeping.append(1)\n",
    "                self.kept += 1\n",
    "                self.temp_score += 100\n",
    "            if d == 5:\n",
    "                self.keeping.append(5)\n",
    "                self.kept += 1\n",
    "                self.temp_score += 50\n",
    "\n",
    "\n",
    "        if (self.kept) == 0:\n",
    "            return (False, True) # Scored no points this roll\n",
    "        if len(self.keeping) == 6:\n",
    "            return (True, False) # Used all 6 dice - must roll again\n",
    "        elif len(self.keeping) > 3:\n",
    "            return (False, False) # Scored points, 2 or fewer dice remain (so don't roll again)\n",
    "        else:\n",
    "            return (True, False) # Scored points, and there are 3 or more dice to play with - recomment roll again.\n"
   ]
  },
  {
   "cell_type": "code",
   "execution_count": 13,
   "metadata": {},
   "outputs": [],
   "source": [
    "def score_player(player, n_rounds):\n",
    "    for i in range(n_rounds):\n",
    "        player.turn()\n",
    "\n",
    "    return(player.score/float(n_rounds))"
   ]
  },
  {
   "cell_type": "code",
   "execution_count": 14,
   "metadata": {},
   "outputs": [
    {
     "data": {
      "text/plain": [
       "751.0325"
      ]
     },
     "execution_count": 14,
     "metadata": {},
     "output_type": "execute_result"
    }
   ],
   "source": [
    "p = AllRules('Baseline') # Flaw: plays with 3 left always\n",
    "score_player(p, 100000) # Gives average score"
   ]
  },
  {
   "cell_type": "code",
   "execution_count": 15,
   "metadata": {},
   "outputs": [
    {
     "data": {
      "text/plain": [
       "213.862"
      ]
     },
     "execution_count": 15,
     "metadata": {},
     "output_type": "execute_result"
    }
   ],
   "source": [
    "p = BasicPlayer('Baseline') # Flaw: plays with 3 left always\n",
    "score_player(p, 100000) # Gives average score"
   ]
  },
  {
   "cell_type": "code",
   "execution_count": 4,
   "metadata": {},
   "outputs": [
    {
     "data": {
      "text/plain": [
       "(array([9.1886e+04, 2.1040e+03, 1.1800e+02, 1.5350e+03, 3.6540e+03,\n",
       "        6.2700e+02, 5.2000e+01, 5.0000e+00, 9.0000e+00, 1.0000e+01]),\n",
       " array([    0.,  1415.,  2830.,  4245.,  5660.,  7075.,  8490.,  9905.,\n",
       "        11320., 12735., 14150.]),\n",
       " <a list of 10 Patch objects>)"
      ]
     },
     "execution_count": 4,
     "metadata": {},
     "output_type": "execute_result"
    },
    {
     "data": {
      "image/png": "[encoded data removed]",
      "text/plain": [
       "<Figure size 432x288 with 1 Axes>"
      ]
     },
     "metadata": {},
     "output_type": "display_data"
    }
   ],
   "source": [
    "from matplotlib import pyplot as plt\n",
    "%matplotlib inline\n",
    "\n",
    "scores = []\n",
    "for i in range(100000):\n",
    "    p.score = 0\n",
    "    p.turn()\n",
    "    scores.append(p.score)\n",
    "\n",
    "plt.hist(scores)\n"
   ]
  },
  {
   "cell_type": "code",
   "execution_count": 5,
   "metadata": {},
   "outputs": [
    {
     "data": {
      "text/plain": [
       "(array([28462., 40572., 12542.,  2971.,  6884.,   808.,   435.,  1017.,\n",
       "           90.,  6219.]),\n",
       " array([   0.,  260.,  520.,  780., 1040., 1300., 1560., 1820., 2080.,\n",
       "        2340., 2600.]),\n",
       " <a list of 10 Patch objects>)"
      ]
     },
     "execution_count": 5,
     "metadata": {},
     "output_type": "execute_result"
    },
    {
     "data": {
      "image/png": "[encoded data removed]",
      "text/plain": [
       "<Figure size 432x288 with 1 Axes>"
      ]
     },
     "metadata": {},
     "output_type": "display_data"
    }
   ],
   "source": [
    "import numpy as np\n",
    "s = np.asarray(scores)\n",
    "s2 = s.clip(0, 2600)\n",
    "plt.hist(s2)"
   ]
  },
  {
   "cell_type": "code",
   "execution_count": 6,
   "metadata": {},
   "outputs": [],
   "source": [
    "import pandas as pd"
   ]
  },
  {
   "cell_type": "code",
   "execution_count": 7,
   "metadata": {},
   "outputs": [],
   "source": [
    "df = pd.DataFrame(scores)"
   ]
  },
  {
   "cell_type": "code",
   "execution_count": 8,
   "metadata": {},
   "outputs": [
    {
     "data": {
      "text/plain": [
       "array([[<matplotlib.axes._subplots.AxesSubplot object at 0x7f3621ac6e48>]],\n",
       "      dtype=object)"
      ]
     },
     "execution_count": 8,
     "metadata": {},
     "output_type": "execute_result"
    },
    {
     "data": {
      "image/png": "[encoded data removed]",
      "text/plain": [
       "<Figure size 432x288 with 1 Axes>"
      ]
     },
     "metadata": {},
     "output_type": "display_data"
    }
   ],
   "source": [
    "df.hist()"
   ]
  },
  {
   "cell_type": "code",
   "execution_count": 9,
   "metadata": {},
   "outputs": [
    {
     "data": {
      "text/plain": [
       "<matplotlib.axes._subplots.AxesSubplot at 0x7f36211e6fd0>"
      ]
     },
     "execution_count": 9,
     "metadata": {},
     "output_type": "execute_result"
    },
    {
     "data": {
      "image/png": "[encoded data removed]",
      "text/plain": [
       "<Figure size 432x288 with 1 Axes>"
      ]
     },
     "metadata": {},
     "output_type": "display_data"
    }
   ],
   "source": [
    "df.plot(kind='density')"
   ]
  },
  {
   "cell_type": "code",
   "execution_count": 11,
   "metadata": {},
   "outputs": [
    {
     "data": {
      "text/plain": [
       "<matplotlib.axes._subplots.AxesSubplot at 0x7f360cfee4e0>"
      ]
     },
     "execution_count": 11,
     "metadata": {},
     "output_type": "execute_result"
    },
    {
     "data": {
      "image/png": "[encoded data removed]",
      "text/plain": [
       "<Figure size 432x288 with 1 Axes>"
      ]
     },
     "metadata": {},
     "output_type": "display_data"
    }
   ],
   "source": [
    "df.loc[df[0]<2000].plot(kind='density')"
   ]
  },
  {
   "cell_type": "code",
   "execution_count": 27,
   "metadata": {},
   "outputs": [
    {
     "data": {
      "text/plain": [
       "0    15.117\n",
       "dtype: float64"
      ]
     },
     "execution_count": 27,
     "metadata": {},
     "output_type": "execute_result"
    }
   ],
   "source": [
    "df.loc[df[0] > 1000].count()/1000"
   ]
  },
  {
   "cell_type": "code",
   "execution_count": 29,
   "metadata": {},
   "outputs": [
    {
     "data": {
      "text/plain": [
       "0    4.301\n",
       "dtype: float64"
      ]
     },
     "execution_count": 29,
     "metadata": {},
     "output_type": "execute_result"
    }
   ],
   "source": [
    "df.loc[df[0] > 5000].count()/1000"
   ]
  },
  {
   "cell_type": "code",
   "execution_count": 39,
   "metadata": {},
   "outputs": [
    {
     "data": {
      "text/plain": [
       "0    0.003\n",
       "dtype: float64"
      ]
     },
     "execution_count": 39,
     "metadata": {},
     "output_type": "execute_result"
    }
   ],
   "source": [
    "df.loc[df[0] == 3100].count()/1000"
   ]
  },
  {
   "cell_type": "code",
   "execution_count": 40,
   "metadata": {},
   "outputs": [
    {
     "data": {
      "text/plain": [
       "0    739.697\n",
       "dtype: float64"
      ]
     },
     "execution_count": 40,
     "metadata": {},
     "output_type": "execute_result"
    }
   ],
   "source": [
    "df.mean()"
   ]
  },
  {
   "cell_type": "code",
   "execution_count": 41,
   "metadata": {},
   "outputs": [],
   "source": [
    "ns = []\n",
    "score = 0\n",
    "n = 0\n",
    "for s in scores:\n",
    "    score += s\n",
    "    n += 1\n",
    "    if score > 10000:\n",
    "        ns.append(n)\n",
    "        score = 0\n",
    "        n = 0"
   ]
  },
  {
   "cell_type": "code",
   "execution_count": 42,
   "metadata": {},
   "outputs": [
    {
     "data": {
      "text/plain": [
       "[24, 7, 14, 21, 13, 11, 24, 14, 23, 29]"
      ]
     },
     "execution_count": 42,
     "metadata": {},
     "output_type": "execute_result"
    }
   ],
   "source": [
    "ns[:10]"
   ]
  },
  {
   "cell_type": "code",
   "execution_count": 44,
   "metadata": {},
   "outputs": [
    {
     "data": {
      "text/plain": [
       "15.74228589420655"
      ]
     },
     "execution_count": 44,
     "metadata": {},
     "output_type": "execute_result"
    }
   ],
   "source": [
    "np.mean(ns)"
   ]
  },
  {
   "cell_type": "code",
   "execution_count": 45,
   "metadata": {},
   "outputs": [
    {
     "data": {
      "text/plain": [
       "15.0"
      ]
     },
     "execution_count": 45,
     "metadata": {},
     "output_type": "execute_result"
    }
   ],
   "source": [
    "np.median(ns)"
   ]
  },
  {
   "cell_type": "code",
   "execution_count": null,
   "metadata": {},
   "outputs": [],
   "source": []
  },
  {
   "cell_type": "code",
   "execution_count": null,
   "metadata": {},
   "outputs": [],
   "source": []
  },
  {
   "cell_type": "code",
   "execution_count": null,
   "metadata": {},
   "outputs": [],
   "source": []
  },
  {
   "cell_type": "code",
   "execution_count": 46,
   "metadata": {},
   "outputs": [],
   "source": [
    "\n",
    "class AllRulesThreshForThreeOne(AllRules):\n",
    "\n",
    "    def __init__(self, name, thresh3, thresh1):\n",
    "        self.name = name\n",
    "        self.score = 0\n",
    "        self.temp_score = 0\n",
    "        self.keeping = []\n",
    "        self.thresh3 = thresh3\n",
    "        self.thresh1 = thresh1\n",
    "\n",
    "    def process_roll(self, roll):\n",
    "        self.kept = 0\n",
    "\n",
    "        roll = self.pull_highs(roll)\n",
    "\n",
    "        roll = self.pull_3oak(roll)\n",
    "\n",
    "\n",
    "        # 1s and 5s:\n",
    "        for d in roll:\n",
    "            if d == 1:\n",
    "                self.keeping.append(1)\n",
    "                self.kept += 1\n",
    "                self.temp_score += 100\n",
    "            if d == 5:\n",
    "                self.keeping.append(5)\n",
    "                self.kept += 1\n",
    "                self.temp_score += 50\n",
    "\n",
    "\n",
    "        if (self.kept) == 0:\n",
    "            return (False, True) # Scored no points this roll\n",
    "        if len(self.keeping) == 6:\n",
    "            return (True, False) # Used all 6 dice - must roll again\n",
    "        elif len(self.keeping) == 5 and self.temp_score > self.thresh1:\n",
    "            return (True, False) # One dice left - risk it for the brisket. Not a good idea generally\n",
    "        elif len(self.keeping) > 3:\n",
    "            return (False, False) # Scored points, 2 or fewer dice remain (so don't roll again)\n",
    "        elif len(self.keeping) == 3 and self.temp_score > self.thresh3:\n",
    "            return (False, False) # Don't roll with 3 left if score is above thresh\n",
    "        else:\n",
    "            return (True, False) # Scored points, and there are 3 or more dice to play with - recomment roll again.\n",
    "\n",
    "\n",
    "\n",
    "\n"
   ]
  },
  {
   "cell_type": "code",
   "execution_count": 49,
   "metadata": {},
   "outputs": [
    {
     "data": {
      "text/plain": [
       "array([[<matplotlib.axes._subplots.AxesSubplot object at 0x7f015a9b4080>]],\n",
       "      dtype=object)"
      ]
     },
     "execution_count": 49,
     "metadata": {},
     "output_type": "execute_result"
    },
    {
     "data": {
      "image/png": "[encoded data removed]",
      "text/plain": [
       "<Figure size 432x288 with 1 Axes>"
      ]
     },
     "metadata": {},
     "output_type": "display_data"
    }
   ],
   "source": [
    "p = AllRulesThreshForThreeOne('name', 500, 20000) # bank 500+ instead of rolling 3 dice\n",
    "\n",
    "scores = []\n",
    "for i in range(100000):\n",
    "    p.score = 0\n",
    "    p.turn()\n",
    "    scores.append(p.score)\n",
    "    \n",
    "df = pd.DataFrame(scores)\n",
    "df.hist()"
   ]
  },
  {
   "cell_type": "code",
   "execution_count": 50,
   "metadata": {},
   "outputs": [
    {
     "data": {
      "text/html": [
       "<div>\n",
       "<style scoped>\n",
       "    .dataframe tbody tr th:only-of-type {\n",
       "        vertical-align: middle;\n",
       "    }\n",
       "\n",
       "    .dataframe tbody tr th {\n",
       "        vertical-align: top;\n",
       "    }\n",
       "\n",
       "    .dataframe thead th {\n",
       "        text-align: right;\n",
       "    }\n",
       "</style>\n",
       "<table border=\"1\" class=\"dataframe\">\n",
       "  <thead>\n",
       "    <tr style=\"text-align: right;\">\n",
       "      <th></th>\n",
       "      <th>0</th>\n",
       "    </tr>\n",
       "  </thead>\n",
       "  <tbody>\n",
       "    <tr>\n",
       "      <th>count</th>\n",
       "      <td>100000.00000</td>\n",
       "    </tr>\n",
       "    <tr>\n",
       "      <th>mean</th>\n",
       "      <td>786.07450</td>\n",
       "    </tr>\n",
       "    <tr>\n",
       "      <th>std</th>\n",
       "      <td>1418.14656</td>\n",
       "    </tr>\n",
       "    <tr>\n",
       "      <th>min</th>\n",
       "      <td>0.00000</td>\n",
       "    </tr>\n",
       "    <tr>\n",
       "      <th>25%</th>\n",
       "      <td>250.00000</td>\n",
       "    </tr>\n",
       "    <tr>\n",
       "      <th>50%</th>\n",
       "      <td>350.00000</td>\n",
       "    </tr>\n",
       "    <tr>\n",
       "      <th>75%</th>\n",
       "      <td>650.00000</td>\n",
       "    </tr>\n",
       "    <tr>\n",
       "      <th>max</th>\n",
       "      <td>15900.00000</td>\n",
       "    </tr>\n",
       "  </tbody>\n",
       "</table>\n",
       "</div>"
      ],
      "text/plain": [
       "                  0\n",
       "count  100000.00000\n",
       "mean      786.07450\n",
       "std      1418.14656\n",
       "min         0.00000\n",
       "25%       250.00000\n",
       "50%       350.00000\n",
       "75%       650.00000\n",
       "max     15900.00000"
      ]
     },
     "execution_count": 50,
     "metadata": {},
     "output_type": "execute_result"
    }
   ],
   "source": [
    "df.describe()"
   ]
  },
  {
   "cell_type": "markdown",
   "metadata": {},
   "source": [
    "Much better mean. Lets see the other metrics"
   ]
  },
  {
   "cell_type": "code",
   "execution_count": 51,
   "metadata": {},
   "outputs": [],
   "source": [
    "ns = []\n",
    "score = 0\n",
    "n = 0\n",
    "for s in scores:\n",
    "    score += s\n",
    "    n += 1\n",
    "    if score > 10000:\n",
    "        ns.append(n)\n",
    "        score = 0\n",
    "        n = 0"
   ]
  },
  {
   "cell_type": "code",
   "execution_count": 52,
   "metadata": {},
   "outputs": [
    {
     "data": {
      "text/plain": [
       "14.878738282993602"
      ]
     },
     "execution_count": 52,
     "metadata": {},
     "output_type": "execute_result"
    }
   ],
   "source": [
    "np.mean(ns)"
   ]
  },
  {
   "cell_type": "code",
   "execution_count": 53,
   "metadata": {},
   "outputs": [
    {
     "data": {
      "text/plain": [
       "14.0"
      ]
     },
     "execution_count": 53,
     "metadata": {},
     "output_type": "execute_result"
    }
   ],
   "source": [
    "np.median(ns)"
   ]
  },
  {
   "cell_type": "code",
   "execution_count": 55,
   "metadata": {},
   "outputs": [
    {
     "data": {
      "text/plain": [
       "array([[<matplotlib.axes._subplots.AxesSubplot object at 0x7f013f6207b8>,\n",
       "        <matplotlib.axes._subplots.AxesSubplot object at 0x7f013f1bda90>]],\n",
       "      dtype=object)"
      ]
     },
     "execution_count": 55,
     "metadata": {},
     "output_type": "execute_result"
    },
    {
     "data": {
      "image/png": "[encoded data removed]",
      "text/plain": [
       "<Figure size 432x288 with 2 Axes>"
      ]
     },
     "metadata": {},
     "output_type": "display_data"
    }
   ],
   "source": [
    "p1 = AllRulesThreshForThreeOne('name', 500, 20000) # bank 500+ instead of rolling 3 dice\n",
    "pb = AllRules('Baseline')\n",
    "\n",
    "bscores = []\n",
    "scores = []\n",
    "for i in range(100000):\n",
    "    pb.score = 0\n",
    "    pb.turn()\n",
    "    bscores.append(pb.score)\n",
    "    p1.score = 0\n",
    "    p1.turn()\n",
    "    scores.append(p1.score)\n",
    "    \n",
    "df = pd.DataFrame({'Base':bscores, 'P1':scores})\n",
    "df.hist()"
   ]
  },
  {
   "cell_type": "code",
   "execution_count": 56,
   "metadata": {},
   "outputs": [
    {
     "data": {
      "text/html": [
       "<div>\n",
       "<style scoped>\n",
       "    .dataframe tbody tr th:only-of-type {\n",
       "        vertical-align: middle;\n",
       "    }\n",
       "\n",
       "    .dataframe tbody tr th {\n",
       "        vertical-align: top;\n",
       "    }\n",
       "\n",
       "    .dataframe thead th {\n",
       "        text-align: right;\n",
       "    }\n",
       "</style>\n",
       "<table border=\"1\" class=\"dataframe\">\n",
       "  <thead>\n",
       "    <tr style=\"text-align: right;\">\n",
       "      <th></th>\n",
       "      <th>Base</th>\n",
       "      <th>P1</th>\n",
       "    </tr>\n",
       "  </thead>\n",
       "  <tbody>\n",
       "    <tr>\n",
       "      <th>count</th>\n",
       "      <td>100000.000000</td>\n",
       "      <td>100000.000000</td>\n",
       "    </tr>\n",
       "    <tr>\n",
       "      <th>mean</th>\n",
       "      <td>752.887500</td>\n",
       "      <td>791.899500</td>\n",
       "    </tr>\n",
       "    <tr>\n",
       "      <th>std</th>\n",
       "      <td>1385.996897</td>\n",
       "      <td>1425.303274</td>\n",
       "    </tr>\n",
       "    <tr>\n",
       "      <th>min</th>\n",
       "      <td>0.000000</td>\n",
       "      <td>0.000000</td>\n",
       "    </tr>\n",
       "    <tr>\n",
       "      <th>25%</th>\n",
       "      <td>250.000000</td>\n",
       "      <td>250.000000</td>\n",
       "    </tr>\n",
       "    <tr>\n",
       "      <th>50%</th>\n",
       "      <td>350.000000</td>\n",
       "      <td>350.000000</td>\n",
       "    </tr>\n",
       "    <tr>\n",
       "      <th>75%</th>\n",
       "      <td>650.000000</td>\n",
       "      <td>650.000000</td>\n",
       "    </tr>\n",
       "    <tr>\n",
       "      <th>max</th>\n",
       "      <td>15200.000000</td>\n",
       "      <td>14500.000000</td>\n",
       "    </tr>\n",
       "  </tbody>\n",
       "</table>\n",
       "</div>"
      ],
      "text/plain": [
       "                Base             P1\n",
       "count  100000.000000  100000.000000\n",
       "mean      752.887500     791.899500\n",
       "std      1385.996897    1425.303274\n",
       "min         0.000000       0.000000\n",
       "25%       250.000000     250.000000\n",
       "50%       350.000000     350.000000\n",
       "75%       650.000000     650.000000\n",
       "max     15200.000000   14500.000000"
      ]
     },
     "execution_count": 56,
     "metadata": {},
     "output_type": "execute_result"
    }
   ],
   "source": [
    "df.describe()"
   ]
  },
  {
   "cell_type": "code",
   "execution_count": 60,
   "metadata": {},
   "outputs": [],
   "source": [
    "bw = 0\n",
    "p1w = 0\n",
    "\n",
    "bscore = 0\n",
    "p1score = 0\n",
    "\n",
    "for i in range(len(scores)):\n",
    "    bscore += bscores[i]\n",
    "    p1score += scores[i]\n",
    "    if (bscore > 10000) or (p1score > 10000):\n",
    "        if bscore>p1score:\n",
    "            bw += 1\n",
    "        else:\n",
    "            p1w += 1\n",
    "        bscore = 0\n",
    "        p1score = 0\n",
    "            \n",
    "    "
   ]
  },
  {
   "cell_type": "code",
   "execution_count": 61,
   "metadata": {},
   "outputs": [
    {
     "data": {
      "text/plain": [
       "4104"
      ]
     },
     "execution_count": 61,
     "metadata": {},
     "output_type": "execute_result"
    }
   ],
   "source": [
    "bw"
   ]
  },
  {
   "cell_type": "code",
   "execution_count": 62,
   "metadata": {},
   "outputs": [
    {
     "data": {
      "text/plain": [
       "4644"
      ]
     },
     "execution_count": 62,
     "metadata": {},
     "output_type": "execute_result"
    }
   ],
   "source": [
    "p1w"
   ]
  },
  {
   "cell_type": "code",
   "execution_count": 63,
   "metadata": {},
   "outputs": [
    {
     "data": {
      "text/plain": [
       "0.5308641975308642"
      ]
     },
     "execution_count": 63,
     "metadata": {},
     "output_type": "execute_result"
    }
   ],
   "source": [
    "p1w/(p1w+bw)"
   ]
  },
  {
   "cell_type": "code",
   "execution_count": 78,
   "metadata": {},
   "outputs": [
    {
     "data": {
      "text/html": [
       "<div>\n",
       "<style scoped>\n",
       "    .dataframe tbody tr th:only-of-type {\n",
       "        vertical-align: middle;\n",
       "    }\n",
       "\n",
       "    .dataframe tbody tr th {\n",
       "        vertical-align: top;\n",
       "    }\n",
       "\n",
       "    .dataframe thead th {\n",
       "        text-align: right;\n",
       "    }\n",
       "</style>\n",
       "<table border=\"1\" class=\"dataframe\">\n",
       "  <thead>\n",
       "    <tr style=\"text-align: right;\">\n",
       "      <th></th>\n",
       "      <th>name</th>\n",
       "      <th>Baseline</th>\n",
       "    </tr>\n",
       "  </thead>\n",
       "  <tbody>\n",
       "    <tr>\n",
       "      <th>count</th>\n",
       "      <td>100000.00000</td>\n",
       "      <td>100000.000000</td>\n",
       "    </tr>\n",
       "    <tr>\n",
       "      <th>mean</th>\n",
       "      <td>790.90100</td>\n",
       "      <td>752.786500</td>\n",
       "    </tr>\n",
       "    <tr>\n",
       "      <th>std</th>\n",
       "      <td>1430.36468</td>\n",
       "      <td>1385.246115</td>\n",
       "    </tr>\n",
       "    <tr>\n",
       "      <th>min</th>\n",
       "      <td>0.00000</td>\n",
       "      <td>0.000000</td>\n",
       "    </tr>\n",
       "    <tr>\n",
       "      <th>25%</th>\n",
       "      <td>250.00000</td>\n",
       "      <td>250.000000</td>\n",
       "    </tr>\n",
       "    <tr>\n",
       "      <th>50%</th>\n",
       "      <td>350.00000</td>\n",
       "      <td>350.000000</td>\n",
       "    </tr>\n",
       "    <tr>\n",
       "      <th>75%</th>\n",
       "      <td>650.00000</td>\n",
       "      <td>650.000000</td>\n",
       "    </tr>\n",
       "    <tr>\n",
       "      <th>max</th>\n",
       "      <td>16500.00000</td>\n",
       "      <td>16550.000000</td>\n",
       "    </tr>\n",
       "  </tbody>\n",
       "</table>\n",
       "</div>"
      ],
      "text/plain": [
       "               name       Baseline\n",
       "count  100000.00000  100000.000000\n",
       "mean      790.90100     752.786500\n",
       "std      1430.36468    1385.246115\n",
       "min         0.00000       0.000000\n",
       "25%       250.00000     250.000000\n",
       "50%       350.00000     350.000000\n",
       "75%       650.00000     650.000000\n",
       "max     16500.00000   16550.000000"
      ]
     },
     "execution_count": 78,
     "metadata": {},
     "output_type": "execute_result"
    }
   ],
   "source": [
    "import operator\n",
    "\n",
    "def compare_players(players, nt):\n",
    "    names = [p.name for p in players]\n",
    "    pscores = {}\n",
    "    for p in players:\n",
    "        scores = []\n",
    "        for i in range(nt):\n",
    "            p.score = 0\n",
    "            p.turn()\n",
    "            scores.append(p.score)\n",
    "        pscores[p.name] = scores\n",
    "    \n",
    "    wins = {}\n",
    "    ss = {}\n",
    "    for n in names:\n",
    "        ss[n] = 0\n",
    "        wins[n] = 0\n",
    "        \n",
    "    for i in range(nt):\n",
    "        for n in names:\n",
    "            ss[n] += pscores[n][i]\n",
    "            if max(ss.values())>10000:\n",
    "                winner = max(ss.items(), key=operator.itemgetter(1))[0]\n",
    "                wins[winner] += 1\n",
    "                for n in names:\n",
    "                    ss[n] = 0\n",
    "        \n",
    "    return (wins, pscores)\n",
    "\n",
    "p1 = AllRulesThreshForThreeOne('name', 500, 20000) # bank 500+ instead of rolling 3 dice\n",
    "pb = AllRules('Baseline')\n",
    "    \n",
    "wins, scores = compare_players([p1, pb], 100000)\n",
    "df = pd.DataFrame(scores)\n",
    "df.describe()"
   ]
  },
  {
   "cell_type": "code",
   "execution_count": 79,
   "metadata": {},
   "outputs": [
    {
     "data": {
      "text/plain": [
       "{'name': 4744, 'Baseline': 4192}"
      ]
     },
     "execution_count": 79,
     "metadata": {},
     "output_type": "execute_result"
    }
   ],
   "source": [
    "wins"
   ]
  },
  {
   "cell_type": "code",
   "execution_count": 88,
   "metadata": {},
   "outputs": [],
   "source": [
    "class AllRulesThreshForThreeOneOnly5inDireStraits(AllRules):\n",
    "\n",
    "    def __init__(self, name, thresh3, thresh1):\n",
    "        self.name = name\n",
    "        self.score = 0\n",
    "        self.temp_score = 0\n",
    "        self.keeping = []\n",
    "        self.thresh3 = thresh3\n",
    "        self.thresh1 = thresh1\n",
    "\n",
    "    def process_roll(self, roll):\n",
    "        self.kept = 0\n",
    "\n",
    "        roll = self.pull_highs(roll)\n",
    "\n",
    "        roll = self.pull_3oak(roll)\n",
    "\n",
    "\n",
    "        # 1s and 5s:\n",
    "        for d in roll:\n",
    "            if d == 1:\n",
    "                self.keeping.append(1)\n",
    "                self.kept += 1\n",
    "                self.temp_score += 100\n",
    "        for d in roll:\n",
    "            if d == 5 and (self.kept == 0 or self.kept > 2):\n",
    "                self.keeping.append(5)\n",
    "                self.kept += 1\n",
    "                self.temp_score += 50\n",
    "\n",
    "\n",
    "        if (self.kept) == 0:\n",
    "            return (False, True) # Scored no points this roll\n",
    "        if len(self.keeping) == 6:\n",
    "            return (True, False) # Used all 6 dice - must roll again\n",
    "        elif len(self.keeping) == 5 and self.temp_score > self.thresh1:\n",
    "            return (True, False) # One dice left - risk it for the brisket. Not a good idea generally\n",
    "        elif len(self.keeping) > 3:\n",
    "            return (False, False) # Scored points, 2 or fewer dice remain (so don't roll again)\n",
    "        elif len(self.keeping) == 3 and self.temp_score > self.thresh3:\n",
    "            return (False, False) # Don't roll with 3 left if score is above thresh\n",
    "        else:\n",
    "            return (True, False) # Scored points, and there are 3 or more dice to play with - recomment roll again."
   ]
  },
  {
   "cell_type": "code",
   "execution_count": 89,
   "metadata": {},
   "outputs": [],
   "source": [
    "pn = AllRulesThreshForThreeOneOnly5inDireStraits('dump5s', 500, 10000)\n",
    "po = AllRulesThreshForThreeOne('keep5s', 500, 10000)"
   ]
  },
  {
   "cell_type": "code",
   "execution_count": 90,
   "metadata": {},
   "outputs": [
    {
     "name": "stdout",
     "output_type": "stream",
     "text": [
      "dump5s      805.726\n",
      "keep5s      775.637\n",
      "Baseline    737.743\n",
      "dtype: float64\n"
     ]
    },
    {
     "data": {
      "text/plain": [
       "{'dump5s': 3891, 'keep5s': 3505, 'Baseline': 3180}"
      ]
     },
     "execution_count": 90,
     "metadata": {},
     "output_type": "execute_result"
    }
   ],
   "source": [
    "wins, scores = compare_players([pn, po, pb], 100000)\n",
    "df = pd.DataFrame(scores)\n",
    "print(df.mean())\n",
    "wins"
   ]
  },
  {
   "cell_type": "markdown",
   "metadata": {},
   "source": [
    "First really interesting result for me!"
   ]
  },
  {
   "cell_type": "code",
   "execution_count": null,
   "metadata": {},
   "outputs": [],
   "source": []
  },
  {
   "cell_type": "code",
   "execution_count": 96,
   "metadata": {},
   "outputs": [],
   "source": [
    "class AllRulesThreshForThreeRisks1(AllRules):\n",
    "\n",
    "    def __init__(self, name, thresh3, thresh1):\n",
    "        self.name = name\n",
    "        self.score = 0\n",
    "        self.temp_score = 0\n",
    "        self.keeping = []\n",
    "        self.thresh3 = thresh3\n",
    "        self.thresh1 = thresh1\n",
    "\n",
    "    def process_roll(self, roll):\n",
    "        self.kept = 0\n",
    "\n",
    "        roll = self.pull_highs(roll)\n",
    "\n",
    "        roll = self.pull_3oak(roll)\n",
    "\n",
    "\n",
    "        # 1s and 5s:\n",
    "        for d in roll:\n",
    "            if d == 1:\n",
    "                self.keeping.append(1)\n",
    "                self.kept += 1\n",
    "                self.temp_score += 100\n",
    "        for d in roll:\n",
    "            if d == 5 and (self.kept == 0 or self.kept > 2):\n",
    "                self.keeping.append(5)\n",
    "                self.kept += 1\n",
    "                self.temp_score += 50\n",
    "\n",
    "\n",
    "        if (self.kept) == 0:\n",
    "            return (False, True) # Scored no points this roll\n",
    "        if len(self.keeping) == 6:\n",
    "            return (True, False) # Used all 6 dice - must roll again\n",
    "        elif len(self.keeping) == 5 and self.temp_score < self.thresh1:\n",
    "            return (True, False) # One dice left - risk it for the brisket. Not a good idea generally, but risks if low score\n",
    "        elif len(self.keeping) > 3:\n",
    "            return (False, False) # Scored points, 2 or fewer dice remain (so don't roll again)\n",
    "        elif len(self.keeping) == 3 and self.temp_score > self.thresh3:\n",
    "            return (False, False) # Don't roll with 3 left if score is above thresh\n",
    "        else:\n",
    "            return (True, False) # Scored points, and there are 3 or more dice to play with - recommend roll again."
   ]
  },
  {
   "cell_type": "code",
   "execution_count": 105,
   "metadata": {},
   "outputs": [],
   "source": [
    "prisky = AllRulesThreshForThreeRisks1('risks1', 500, 500)"
   ]
  },
  {
   "cell_type": "code",
   "execution_count": 107,
   "metadata": {},
   "outputs": [
    {
     "name": "stdout",
     "output_type": "stream",
     "text": [
      "dump5s    806.9842\n",
      "keep5s    786.3161\n",
      "risks1    808.7040\n",
      "dtype: float64\n"
     ]
    },
    {
     "data": {
      "text/plain": [
       "{'dump5s': 37134, 'keep5s': 35162, 'risks1': 37422}"
      ]
     },
     "execution_count": 107,
     "metadata": {},
     "output_type": "execute_result"
    }
   ],
   "source": [
    "wins, scores = compare_players([pn, po, prisky], 1000000)\n",
    "df = pd.DataFrame(scores)\n",
    "print(df.mean())\n",
    "wins"
   ]
  },
  {
   "cell_type": "code",
   "execution_count": 108,
   "metadata": {},
   "outputs": [],
   "source": [
    "pn1 = AllRulesThreshForThreeOneOnly5inDireStraits('dump5s1', 500, 10000)\n",
    "pn2 = AllRulesThreshForThreeOneOnly5inDireStraits('dump5s2', 500, 10000)\n",
    "pn3 = AllRulesThreshForThreeOneOnly5inDireStraits('dump5s3', 500, 10000)\n",
    "pn4 = AllRulesThreshForThreeOneOnly5inDireStraits('dump5s4', 500, 10000)\n",
    "pn5 = AllRulesThreshForThreeOneOnly5inDireStraits('dump5s5', 500, 10000)\n",
    "pn6 = AllRulesThreshForThreeOneOnly5inDireStraits('dump5s6', 500, 10000)\n",
    "pns = [pn1, pn2, pn3, pn4, pn5, pn6]\n",
    "po = AllRulesThreshForThreeOne('keep5s', 500, 10000)\n"
   ]
  },
  {
   "cell_type": "code",
   "execution_count": 109,
   "metadata": {},
   "outputs": [
    {
     "name": "stdout",
     "output_type": "stream",
     "text": [
      "T: 250, Score: 806.5575, Win Percentage: 0.14400627820286444\n",
      "T: 300, Score: 806.114, Win Percentage: 0.14294136914510316\n",
      "T: 400, Score: 806.4185, Win Percentage: 0.14531384350816853\n",
      "T: 500, Score: 813.452, Win Percentage: 0.14512115258677144\n",
      "T: 600, Score: 813.5875, Win Percentage: 0.14729844228638467\n",
      "T: 700, Score: 803.6135, Win Percentage: 0.14635579937304075\n",
      "T: 1000, Score: 790.662, Win Percentage: 0.14083766191071076\n"
     ]
    }
   ],
   "source": [
    "ts = [250, 300, 400, 500, 600, 700, 1000]\n",
    "for t in ts:\n",
    "    prisky = AllRulesThreshForThreeRisks1('risks1', 500, t)\n",
    "    wins, scores = compare_players([pn1, pn2, pn3, pn4, pn5, pn6, prisky], 100000)\n",
    "    df = pd.DataFrame(scores)\n",
    "    print('T: '+str(t) + ', Score: ' + str(df.mean()['risks1']) + ', Win Percentage: ' + str(wins['risks1']/sum(wins.values())))"
   ]
  },
  {
   "cell_type": "code",
   "execution_count": 112,
   "metadata": {},
   "outputs": [
    {
     "data": {
      "text/plain": [
       "{'dump5s1': 65559,\n",
       " 'dump5s2': 64978,\n",
       " 'dump5s3': 65293,\n",
       " 'dump5s4': 65080,\n",
       " 'dump5s5': 65238,\n",
       " 'dump5s6': 65160,\n",
       " 'risks1': 66318}"
      ]
     },
     "execution_count": 112,
     "metadata": {},
     "output_type": "execute_result"
    }
   ],
   "source": [
    "prisky = AllRulesThreshForThreeRisks1('risks1', 500, 700)\n",
    "wins, scores = compare_players([pn1, pn2, pn3, pn4, pn5, pn6, prisky], 3000000)\n",
    "wins"
   ]
  },
  {
   "cell_type": "code",
   "execution_count": 113,
   "metadata": {},
   "outputs": [
    {
     "data": {
      "text/plain": [
       "dump5s1    807.679317\n",
       "dump5s2    806.118700\n",
       "dump5s3    806.327633\n",
       "dump5s4    806.029383\n",
       "dump5s5    806.765667\n",
       "dump5s6    807.170067\n",
       "risks1     802.735333\n",
       "dtype: float64"
      ]
     },
     "execution_count": 113,
     "metadata": {},
     "output_type": "execute_result"
    }
   ],
   "source": [
    "df = pd.DataFrame(scores)\n",
    "df.mean()"
   ]
  },
  {
   "cell_type": "code",
   "execution_count": null,
   "metadata": {},
   "outputs": [],
   "source": []
  },
  {
   "cell_type": "code",
   "execution_count": 116,
   "metadata": {},
   "outputs": [
    {
     "data": {
      "text/plain": [
       "{'dump5s1': 23411, 'risks1': 23071}"
      ]
     },
     "execution_count": 116,
     "metadata": {},
     "output_type": "execute_result"
    }
   ],
   "source": [
    "prisky = AllRulesThreshForThreeRisks1('risks1', 500, 700)\n",
    "wins2, scores2 = compare_players([pn1, prisky], 500000)\n",
    "wins2"
   ]
  },
  {
   "cell_type": "code",
   "execution_count": 117,
   "metadata": {},
   "outputs": [
    {
     "data": {
      "text/plain": [
       "dump5s1    804.3118\n",
       "risks1     801.2165\n",
       "dtype: float64"
      ]
     },
     "execution_count": 117,
     "metadata": {},
     "output_type": "execute_result"
    }
   ],
   "source": [
    "df2 = pd.DataFrame(scores2)\n",
    "df2.mean()"
   ]
  },
  {
   "cell_type": "code",
   "execution_count": null,
   "metadata": {},
   "outputs": [],
   "source": []
  }
 ],
 "metadata": {
  "kernelspec": {
   "display_name": "Python 3",
   "language": "python",
   "name": "python3"
  },
  "language_info": {
   "codemirror_mode": {
    "name": "ipython",
    "version": 3
   },
   "file_extension": ".py",
   "mimetype": "text/x-python",
   "name": "python",
   "nbconvert_exporter": "python",
   "pygments_lexer": "ipython3",
   "version": "3.6.7"
  }
 },
 "nbformat": 4,
 "nbformat_minor": 2
}
