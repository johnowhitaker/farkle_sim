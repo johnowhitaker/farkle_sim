{
 "cells": [
  {
   "cell_type": "markdown",
   "metadata": {},
   "source": [
    "# Farkle Simulator\n",
    "\n",
    "Simulating the game farkle as played by my relatives.\n",
    "\n",
    "We start by making a player class (see github repo for unit tests and development process)\n",
    "\n",
    "We then make an 'AllRules' player as a baseline. "
   ]
  },
  {
   "cell_type": "code",
   "execution_count": 11,
   "metadata": {},
   "outputs": [],
   "source": [
    "from matplotlib import pyplot as plt\n",
    "import numpy as np\n",
    "import pandas as pd\n",
    "%matplotlib inline"
   ]
  },
  {
   "cell_type": "code",
   "execution_count": 15,
   "metadata": {},
   "outputs": [],
   "source": [
    "import random\n",
    "import sys\n",
    "\n",
    "# This method can be tweaked for testing\n",
    "def dice(n): # Returns n dice numbers (totally random) - tested\n",
    "    return [random.randint(1, 6) for i in range(n)]\n",
    "\n",
    "\n",
    "# Some tests for different scoring combos:\n",
    "\n",
    "def unique(roll):\n",
    "    u = []\n",
    "    for r in roll:\n",
    "        if r not in u:\n",
    "            u.append(r)\n",
    "    return u\n",
    "\n",
    "def test_for_3oak(roll):\n",
    "    u = unique(roll)\n",
    "    for r in u:\n",
    "        if roll.count(r) >= 3: # <<<<<<<<<< cases with >3 handled by player\n",
    "            return True, r\n",
    "    return False, 0\n",
    "\n",
    "def test_for_3pairs(roll):\n",
    "    u = unique(roll)\n",
    "    twos = 0\n",
    "    for r in u:\n",
    "        if roll.count(r) == 2:\n",
    "            twos += 1\n",
    "    if twos == 3:\n",
    "        return True\n",
    "    return False\n",
    "\n",
    "def test_for_23s(roll):\n",
    "    u = unique(roll)\n",
    "    threes = 0\n",
    "    for r in u:\n",
    "        if roll.count(r) == 3:\n",
    "            threes += 1\n",
    "    if threes == 2:\n",
    "        return True\n",
    "    return False\n",
    "\n",
    "def test_for_run(roll):\n",
    "    if len(unique(roll)) == 6:\n",
    "        return True\n",
    "    return False\n",
    "\n",
    "# This is the base class, that implements a simple player who keeps 1s and 5s and rolls again if they have 3 or more dice left.\n",
    "# To build a more complex player, one simply adds a child class and overrides the process_roll function.\n",
    "class BasicPlayer:\n",
    "    def __init__(self, name):\n",
    "        self.name = name\n",
    "        self.score = 0\n",
    "        self.temp_score = 0\n",
    "        self.keeping = []\n",
    "\n",
    "    def process_roll(self, roll):\n",
    "        # Knows temp score, score and current roll. Adds dice to self.keeping and optionally rolls again.\n",
    "        # Returns: (roll_again (bool), fail (bool - true if no points scored))\n",
    "        # Go through dice looking for high scoring patterns << Add patterns\n",
    "        self.kept = 0 # How many dice kept (must be at least 1 else turn ends)\n",
    "        for d in roll:\n",
    "            if d == 1:\n",
    "                self.keeping.append(1)\n",
    "                self.kept += 1\n",
    "                self.temp_score += 100\n",
    "            if d == 5:\n",
    "                self.keeping.append(5)\n",
    "                self.kept += 1\n",
    "                self.temp_score += 50\n",
    "        if (self.kept) == 0:\n",
    "            return (False, True) # Scored no points this roll\n",
    "        elif len(self.keeping) > 3:\n",
    "            return (False, False) # Scored points, 2 or fewer dice remain (so don't roll again)\n",
    "        else:\n",
    "            return (True, False) # Scored points, and there are 3 or more dice to play with - recomment roll again.\n",
    "\n",
    "    def turn(self, verbose=False):\n",
    "        # Reset some variables\n",
    "        self.temp_score = 0\n",
    "        self.keeping = []\n",
    "        # Roll the dice\n",
    "        roll = dice(6)\n",
    "        if verbose:print('Player %s: rolled ' % self.name + str(roll))\n",
    "        # Process the roll. If roll_again is true, keep rolling until it isn't or a roll fails\n",
    "        roll_again, fail = self.process_roll(roll)\n",
    "        if fail:\n",
    "            if verbose:print('     - %s: No points this roll, total score: ' % self.name + str(self.score))\n",
    "            self.temp_score = 0\n",
    "        elif roll_again:\n",
    "            while roll_again:\n",
    "                if verbose:print('     - %s: Keeping ' % self.name + str(self.keeping) + ' for temp_score of ' + str(self.temp_score) + ', total score: ' + str(self.score))\n",
    "                # If all 6 used must roll again, with 6 dice (so empty keeping)\n",
    "                if len(self.keeping) == 6:\n",
    "                    self.keeping = []\n",
    "                roll = dice(6 - len(self.keeping))\n",
    "                if verbose:print('     - %s: rolled ' % self.name + str(roll))\n",
    "                roll_again, fail = self.process_roll(roll)\n",
    "                if fail:\n",
    "                    if verbose:print('     - %s: No points this roll, total score: ' % self.name + str(self.score))\n",
    "                    self.temp_score = 0\n",
    "                # Otherwise, roll_again determines how many times this loop runs\n",
    "        # Update the score - turn has ended.\n",
    "        self.score += self.temp_score\n",
    "        if verbose:print('     - %s: Turn over. ' % self.name + 'Kept:'+ str(self.keeping) + ', turn score:' + str(self.temp_score) + ', total score: ' + str(self.score))\n",
    "\n",
    "\n",
    "\n",
    "class AllRules(BasicPlayer):\n",
    "\n",
    "    def pull_highs(self, roll):\n",
    "        # 2 3OAKS\n",
    "        if test_for_23s(roll):\n",
    "            for d in roll:\n",
    "                self.keeping.append(d)\n",
    "                roll.remove(d)\n",
    "                self.kept += 1\n",
    "                self.temp_score += 2500\n",
    "\n",
    "        # 3 pairs:\n",
    "        if test_for_3pairs(roll):\n",
    "            for d in roll:\n",
    "                self.keeping.append(d)\n",
    "                roll.remove(d)\n",
    "                self.kept += 1\n",
    "                self.temp_score += 2000\n",
    "\n",
    "        # Run (1, 2, 3, 4, 5, 6)\n",
    "        if test_for_run(roll):\n",
    "            for d in roll:\n",
    "                self.keeping.append(d)\n",
    "                roll.remove(d)\n",
    "                self.kept += 1\n",
    "                self.temp_score += 1500\n",
    "        return roll\n",
    "\n",
    "    def pull_3oak(self, roll):\n",
    "        # 3oak:\n",
    "        thr, num = test_for_3oak(roll)\n",
    "        if thr:\n",
    "            for n in [num, num, num]:\n",
    "                self.keeping.append(num)\n",
    "                roll.remove(num)\n",
    "                self.kept += 1\n",
    "            s = num*100 # The score for this\n",
    "            if num == 1: s = 1000 # one is a special case\n",
    "            # If there are any extras of that number (more than three total), we double the score for each\n",
    "            while roll.count(num) > 0:\n",
    "                self.keeping.append(num)\n",
    "                roll.remove(num)\n",
    "                self.kept += 1\n",
    "                s = s*2\n",
    "            self.temp_score += s\n",
    "        return roll\n",
    "\n",
    "\n",
    "    def process_roll(self, roll):\n",
    "        # Knows temp score, score and current roll. Adds dice to self.keeping and optionally rolls again.\n",
    "        # Returns: (roll_again (bool), fail (bool - true if no points scored))\n",
    "        # Go through dice looking for high scoring patterns << Add patterns\n",
    "        self.kept = 0 # How many dice kept (must be at least 1 else turn ends)\n",
    "\n",
    "        roll = self.pull_highs(roll)\n",
    "\n",
    "        roll = self.pull_3oak(roll)\n",
    "\n",
    "\n",
    "        # 1s and 5s:\n",
    "        for d in roll:\n",
    "            if d == 1:\n",
    "                self.keeping.append(1)\n",
    "                self.kept += 1\n",
    "                self.temp_score += 100\n",
    "            if d == 5:\n",
    "                self.keeping.append(5)\n",
    "                self.kept += 1\n",
    "                self.temp_score += 50\n",
    "\n",
    "\n",
    "        if (self.kept) == 0:\n",
    "            return (False, True) # Scored no points this roll\n",
    "        if len(self.keeping) == 6:\n",
    "            return (True, False) # Used all 6 dice - must roll again\n",
    "        elif len(self.keeping) > 3:\n",
    "            return (False, False) # Scored points, 2 or fewer dice remain (so don't roll again)\n",
    "        else:\n",
    "            return (True, False) # Scored points, and there are 3 or more dice to play with - recomment roll again.\n"
   ]
  },
  {
   "cell_type": "markdown",
   "metadata": {},
   "source": [
    "# Scoring players, and investigating performance"
   ]
  },
  {
   "cell_type": "code",
   "execution_count": 16,
   "metadata": {},
   "outputs": [],
   "source": [
    "# Run a bunch of turns and get the average score\n",
    "def score_player(player, n_rounds):\n",
    "    for i in range(n_rounds):\n",
    "        player.turn()\n",
    "\n",
    "    return(player.score/float(n_rounds))"
   ]
  },
  {
   "cell_type": "markdown",
   "metadata": {},
   "source": [
    "# Trying with our two players developed thus far:"
   ]
  },
  {
   "cell_type": "code",
   "execution_count": 17,
   "metadata": {},
   "outputs": [
    {
     "data": {
      "text/plain": [
       "213.9235"
      ]
     },
     "execution_count": 17,
     "metadata": {},
     "output_type": "execute_result"
    }
   ],
   "source": [
    "p = BasicPlayer('Basic') # Flaw: Only picks ones and fives\n",
    "score_player(p, 100000) # Gives average score"
   ]
  },
  {
   "cell_type": "code",
   "execution_count": 18,
   "metadata": {},
   "outputs": [
    {
     "data": {
      "text/plain": [
       "741.53"
      ]
     },
     "execution_count": 18,
     "metadata": {},
     "output_type": "execute_result"
    }
   ],
   "source": [
    "p = AllRules('Baseline') # Flaw: plays with 3 left always\n",
    "score_player(p, 100000) # Gives average score - up to 1M for a finer estimate"
   ]
  },
  {
   "cell_type": "markdown",
   "metadata": {},
   "source": [
    "# Seeing the distribution of scores"
   ]
  },
  {
   "cell_type": "code",
   "execution_count": 19,
   "metadata": {},
   "outputs": [
    {
     "data": {
      "text/plain": [
       "(array([9.1931e+04, 2.1610e+03, 1.2000e+02, 1.5290e+03, 3.5310e+03,\n",
       "        6.2200e+02, 7.5000e+01, 1.2000e+01, 1.2000e+01, 7.0000e+00]),\n",
       " array([    0.,  1380.,  2760.,  4140.,  5520.,  6900.,  8280.,  9660.,\n",
       "        11040., 12420., 13800.]),\n",
       " <a list of 10 Patch objects>)"
      ]
     },
     "execution_count": 19,
     "metadata": {},
     "output_type": "execute_result"
    },
    {
     "data": {
      "image/png": "[encoded data removed]",
      "text/plain": [
       "<Figure size 432x288 with 1 Axes>"
      ]
     },
     "metadata": {},
     "output_type": "display_data"
    }
   ],
   "source": [
    "scores = []\n",
    "for i in range(100000):\n",
    "    p.score = 0\n",
    "    p.turn()\n",
    "    scores.append(p.score)\n",
    "plt.hist(scores)"
   ]
  },
  {
   "cell_type": "code",
   "execution_count": 20,
   "metadata": {},
   "outputs": [
    {
     "data": {
      "text/plain": [
       "(array([28588., 40580., 12668.,  2881.,  6816.,   829.,   443.,  1009.,\n",
       "          114.,  6072.]),\n",
       " array([   0.,  260.,  520.,  780., 1040., 1300., 1560., 1820., 2080.,\n",
       "        2340., 2600.]),\n",
       " <a list of 10 Patch objects>)"
      ]
     },
     "execution_count": 20,
     "metadata": {},
     "output_type": "execute_result"
    },
    {
     "data": {
      "image/png": "[encoded data removed]",
      "text/plain": [
       "<Figure size 432x288 with 1 Axes>"
      ]
     },
     "metadata": {},
     "output_type": "display_data"
    }
   ],
   "source": [
    "# Show the lower scores in more detail\n",
    "plt.hist(np.asarray(scores).clip(0, 2600))"
   ]
  },
  {
   "cell_type": "code",
   "execution_count": 21,
   "metadata": {},
   "outputs": [
    {
     "data": {
      "text/plain": [
       "<matplotlib.axes._subplots.AxesSubplot at 0x7ff430166b70>"
      ]
     },
     "execution_count": 21,
     "metadata": {},
     "output_type": "execute_result"
    },
    {
     "data": {
      "image/png": "[encoded data removed]",
      "text/plain": [
       "<Figure size 432x288 with 1 Axes>"
      ]
     },
     "metadata": {},
     "output_type": "display_data"
    }
   ],
   "source": [
    "# Make a fancier plot\n",
    "df = pd.DataFrame(scores)\n",
    "df.loc[df[0]<2000].plot(kind='density')"
   ]
  },
  {
   "cell_type": "markdown",
   "metadata": {},
   "source": [
    "We can ask various questions about how often certain conditions are met. For eg, how frequently is the score above 1000 points?"
   ]
  },
  {
   "cell_type": "code",
   "execution_count": 22,
   "metadata": {},
   "outputs": [
    {
     "data": {
      "text/plain": [
       "0    15.283\n",
       "dtype: float64"
      ]
     },
     "execution_count": 22,
     "metadata": {},
     "output_type": "execute_result"
    }
   ],
   "source": [
    "df.loc[df[0] > 1000].count()/1000 # What percentage of the time is the score over 1000?"
   ]
  },
  {
   "cell_type": "code",
   "execution_count": 23,
   "metadata": {},
   "outputs": [
    {
     "data": {
      "text/plain": [
       "0    4.311\n",
       "dtype: float64"
      ]
     },
     "execution_count": 23,
     "metadata": {},
     "output_type": "execute_result"
    }
   ],
   "source": [
    "df.loc[df[0] > 5000].count()/1000 # Over 5000?"
   ]
  },
  {
   "cell_type": "code",
   "execution_count": 24,
   "metadata": {},
   "outputs": [
    {
     "data": {
      "text/plain": [
       "0    742.6525\n",
       "dtype: float64"
      ]
     },
     "execution_count": 24,
     "metadata": {},
     "output_type": "execute_result"
    }
   ],
   "source": [
    "df.mean() # What's the average score?"
   ]
  },
  {
   "cell_type": "code",
   "execution_count": 25,
   "metadata": {},
   "outputs": [],
   "source": [
    "# How many turns does it take, on average, to reach 10000 points?\n",
    "ns = []\n",
    "score = 0\n",
    "n = 0\n",
    "for s in scores:\n",
    "    score += s\n",
    "    n += 1\n",
    "    if score > 10000:\n",
    "        ns.append(n)\n",
    "        score = 0\n",
    "        n = 0"
   ]
  },
  {
   "cell_type": "code",
   "execution_count": 26,
   "metadata": {},
   "outputs": [
    {
     "data": {
      "text/plain": [
       "15.650594865372573"
      ]
     },
     "execution_count": 26,
     "metadata": {},
     "output_type": "execute_result"
    }
   ],
   "source": [
    "np.mean(ns) # Average turns to reach 10k ~= 15.6"
   ]
  },
  {
   "cell_type": "code",
   "execution_count": 27,
   "metadata": {},
   "outputs": [
    {
     "data": {
      "text/plain": [
       "14.0"
      ]
     },
     "execution_count": 27,
     "metadata": {},
     "output_type": "execute_result"
    }
   ],
   "source": [
    "np.median(ns) # And median ~=14 or 15"
   ]
  },
  {
   "cell_type": "markdown",
   "metadata": {},
   "source": [
    "# Trying a new strategy"
   ]
  },
  {
   "cell_type": "markdown",
   "metadata": {},
   "source": [
    "We make a new player, the same as the baseline (AllRules) except that it only re-rolls with three dice if it's score is below a threshold. This saves it from risking high scores pointlessly (odds of failing with three dice are fairly high)"
   ]
  },
  {
   "cell_type": "code",
   "execution_count": 31,
   "metadata": {},
   "outputs": [],
   "source": [
    "class AllRulesThreshForThree(AllRules): # A threshold \n",
    "    def __init__(self, name, thresh3):\n",
    "        self.name = name\n",
    "        self.score = 0\n",
    "        self.temp_score = 0\n",
    "        self.keeping = []\n",
    "        self.thresh3 = thresh3\n",
    "\n",
    "    def process_roll(self, roll):\n",
    "        self.kept = 0\n",
    "        \n",
    "        # Remove high scoring combos\n",
    "        roll = self.pull_highs(roll) \n",
    "        roll = self.pull_3oak(roll)\n",
    "\n",
    "        # Remove all 1s and 5s:\n",
    "        for d in roll:\n",
    "            if d == 1:\n",
    "                self.keeping.append(1)\n",
    "                self.kept += 1\n",
    "                self.temp_score += 100\n",
    "            if d == 5:\n",
    "                self.keeping.append(5)\n",
    "                self.kept += 1\n",
    "                self.temp_score += 50\n",
    "        \n",
    "        # Decide whether to roll again\n",
    "        if (self.kept) == 0:\n",
    "            return (False, True) # Scored no points this roll\n",
    "        if len(self.keeping) == 6:\n",
    "            return (True, False) # Used all 6 dice - must roll again\n",
    "        elif len(self.keeping) > 3:\n",
    "            return (False, False) # Scored points, 2 or fewer dice remain (so don't roll again)\n",
    "        elif len(self.keeping) == 3 and self.temp_score > self.thresh3: # <<<<< The new bit\n",
    "            return (False, False) # Don't roll with 3 left if score is above thresh\n",
    "        else:\n",
    "            return (True, False) # Scored points, and there are 3 or more dice to play with - recommend roll again."
   ]
  },
  {
   "cell_type": "code",
   "execution_count": 32,
   "metadata": {},
   "outputs": [
    {
     "data": {
      "text/plain": [
       "788.846"
      ]
     },
     "execution_count": 32,
     "metadata": {},
     "output_type": "execute_result"
    }
   ],
   "source": [
    "p_3thresh = AllRulesThreshForThree('500 Threshold', 500) # bank 500+ instead of rolling 3 dice\n",
    "score_player(p_3thresh, 100000)"
   ]
  },
  {
   "cell_type": "markdown",
   "metadata": {},
   "source": [
    "It does quite a bit better! We can loop through thresholds and see which is best"
   ]
  },
  {
   "cell_type": "code",
   "execution_count": 35,
   "metadata": {},
   "outputs": [],
   "source": [
    "ts = [i * 100 for i in range(15)]\n",
    "scores = []\n",
    "for t in ts:\n",
    "    p = AllRulesThreshForThree('%i Threshold' % t, t)\n",
    "    scores.append(score_player(p, 100000))"
   ]
  },
  {
   "cell_type": "code",
   "execution_count": 42,
   "metadata": {},
   "outputs": [
    {
     "data": {
      "image/png": "[encoded data removed]",
      "text/plain": [
       "<Figure size 432x288 with 1 Axes>"
      ]
     },
     "metadata": {},
     "output_type": "display_data"
    }
   ],
   "source": [
    "plt.plot(ts, scores)\n",
    "plt.xlabel(\"Threshold\")\n",
    "plt.ylabel(\"Score (AllRulesThreshForThree)\")\n",
    "plt.savefig('allt4t_threshvsscore.png')"
   ]
  },
  {
   "cell_type": "markdown",
   "metadata": {},
   "source": [
    "Let's have the two players play against eachother"
   ]
  },
  {
   "cell_type": "code",
   "execution_count": 43,
   "metadata": {},
   "outputs": [
    {
     "data": {
      "text/plain": [
       "array([[<matplotlib.axes._subplots.AxesSubplot object at 0x7ff413023358>,\n",
       "        <matplotlib.axes._subplots.AxesSubplot object at 0x7ff412b54518>]],\n",
       "      dtype=object)"
      ]
     },
     "execution_count": 43,
     "metadata": {},
     "output_type": "execute_result"
    },
    {
     "data": {
      "image/png": "[encoded data removed]",
      "text/plain": [
       "<Figure size 432x288 with 2 Axes>"
      ]
     },
     "metadata": {},
     "output_type": "display_data"
    }
   ],
   "source": [
    "# Two players, log turns\n",
    "p1 = AllRulesThreshForThree('name', 500) # bank 500+ instead of rolling 3 dice\n",
    "pb = AllRules('Baseline')\n",
    "\n",
    "bscores = []\n",
    "scores = []\n",
    "for i in range(100000):\n",
    "    pb.score = 0\n",
    "    pb.turn()\n",
    "    bscores.append(pb.score)\n",
    "    p1.score = 0\n",
    "    p1.turn()\n",
    "    scores.append(p1.score)\n",
    "    \n",
    "df = pd.DataFrame({'Base':bscores, 'P1':scores})\n",
    "df.hist()"
   ]
  },
  {
   "cell_type": "code",
   "execution_count": 44,
   "metadata": {},
   "outputs": [
    {
     "data": {
      "text/html": [
       "<div>\n",
       "<style scoped>\n",
       "    .dataframe tbody tr th:only-of-type {\n",
       "        vertical-align: middle;\n",
       "    }\n",
       "\n",
       "    .dataframe tbody tr th {\n",
       "        vertical-align: top;\n",
       "    }\n",
       "\n",
       "    .dataframe thead th {\n",
       "        text-align: right;\n",
       "    }\n",
       "</style>\n",
       "<table border=\"1\" class=\"dataframe\">\n",
       "  <thead>\n",
       "    <tr style=\"text-align: right;\">\n",
       "      <th></th>\n",
       "      <th>Base</th>\n",
       "      <th>P1</th>\n",
       "    </tr>\n",
       "  </thead>\n",
       "  <tbody>\n",
       "    <tr>\n",
       "      <th>count</th>\n",
       "      <td>100000.000000</td>\n",
       "      <td>100000.000000</td>\n",
       "    </tr>\n",
       "    <tr>\n",
       "      <th>mean</th>\n",
       "      <td>750.897000</td>\n",
       "      <td>778.357500</td>\n",
       "    </tr>\n",
       "    <tr>\n",
       "      <th>std</th>\n",
       "      <td>1382.182965</td>\n",
       "      <td>1397.275099</td>\n",
       "    </tr>\n",
       "    <tr>\n",
       "      <th>min</th>\n",
       "      <td>0.000000</td>\n",
       "      <td>0.000000</td>\n",
       "    </tr>\n",
       "    <tr>\n",
       "      <th>25%</th>\n",
       "      <td>250.000000</td>\n",
       "      <td>250.000000</td>\n",
       "    </tr>\n",
       "    <tr>\n",
       "      <th>50%</th>\n",
       "      <td>350.000000</td>\n",
       "      <td>350.000000</td>\n",
       "    </tr>\n",
       "    <tr>\n",
       "      <th>75%</th>\n",
       "      <td>650.000000</td>\n",
       "      <td>650.000000</td>\n",
       "    </tr>\n",
       "    <tr>\n",
       "      <th>max</th>\n",
       "      <td>14350.000000</td>\n",
       "      <td>14950.000000</td>\n",
       "    </tr>\n",
       "  </tbody>\n",
       "</table>\n",
       "</div>"
      ],
      "text/plain": [
       "                Base             P1\n",
       "count  100000.000000  100000.000000\n",
       "mean      750.897000     778.357500\n",
       "std      1382.182965    1397.275099\n",
       "min         0.000000       0.000000\n",
       "25%       250.000000     250.000000\n",
       "50%       350.000000     350.000000\n",
       "75%       650.000000     650.000000\n",
       "max     14350.000000   14950.000000"
      ]
     },
     "execution_count": 44,
     "metadata": {},
     "output_type": "execute_result"
    }
   ],
   "source": [
    "df.describe() # p1 has a much better mean"
   ]
  },
  {
   "cell_type": "code",
   "execution_count": 45,
   "metadata": {},
   "outputs": [],
   "source": [
    "# Play games, stopping each when one gets to 10k. We'll then look at the win percentage of our new player vs old\n",
    "bw = 0\n",
    "p1w = 0\n",
    "\n",
    "bscore = 0\n",
    "p1score = 0\n",
    "\n",
    "for i in range(len(scores)):\n",
    "    bscore += bscores[i]\n",
    "    p1score += scores[i]\n",
    "    if (bscore > 10000) or (p1score > 10000):\n",
    "        if bscore>p1score:\n",
    "            bw += 1\n",
    "        else:\n",
    "            p1w += 1\n",
    "        bscore = 0\n",
    "        p1score = 0\n",
    "            \n",
    "    "
   ]
  },
  {
   "cell_type": "code",
   "execution_count": 46,
   "metadata": {},
   "outputs": [
    {
     "data": {
      "text/plain": [
       "4134"
      ]
     },
     "execution_count": 46,
     "metadata": {},
     "output_type": "execute_result"
    }
   ],
   "source": [
    "bw # Base player wins"
   ]
  },
  {
   "cell_type": "code",
   "execution_count": 48,
   "metadata": {},
   "outputs": [
    {
     "data": {
      "text/plain": [
       "4521"
      ]
     },
     "execution_count": 48,
     "metadata": {},
     "output_type": "execute_result"
    }
   ],
   "source": [
    "p1w # Thresh 500 player wins"
   ]
  },
  {
   "cell_type": "code",
   "execution_count": 50,
   "metadata": {},
   "outputs": [
    {
     "data": {
      "text/plain": [
       "0.5223570190641248"
      ]
     },
     "execution_count": 50,
     "metadata": {},
     "output_type": "execute_result"
    }
   ],
   "source": [
    "p1w/(p1w+bw) # Even though the average score is a lot better, this player only wins 52% of the time."
   ]
  },
  {
   "cell_type": "markdown",
   "metadata": {},
   "source": [
    "# Making a beter way to compare two players"
   ]
  },
  {
   "cell_type": "code",
   "execution_count": 52,
   "metadata": {},
   "outputs": [],
   "source": [
    "import operator\n",
    "\n",
    "def compare_players(players, nt):\n",
    "    names = [p.name for p in players]\n",
    "    pscores = {}\n",
    "    for p in players:\n",
    "        scores = []\n",
    "        for i in range(nt):\n",
    "            p.score = 0\n",
    "            p.turn()\n",
    "            scores.append(p.score)\n",
    "        pscores[p.name] = scores\n",
    "    \n",
    "    wins = {}\n",
    "    ss = {}\n",
    "    for n in names:\n",
    "        ss[n] = 0\n",
    "        wins[n] = 0\n",
    "        \n",
    "    for i in range(nt):\n",
    "        for n in names:\n",
    "            ss[n] += pscores[n][i]\n",
    "            if max(ss.values())>10000:\n",
    "                winner = max(ss.items(), key=operator.itemgetter(1))[0]\n",
    "                wins[winner] += 1\n",
    "                for n in names:\n",
    "                    ss[n] = 0\n",
    "        \n",
    "    return (wins, pscores)\n",
    "\n",
    "p1 = AllRulesThreshForThree('name', 500) # bank 500+ instead of rolling 3 dice\n",
    "pb = AllRules('Baseline')\n",
    "    \n",
    "wins, scores = compare_players([p1, pb], 100000)"
   ]
  },
  {
   "cell_type": "code",
   "execution_count": 54,
   "metadata": {},
   "outputs": [
    {
     "data": {
      "text/plain": [
       "{'name': 4655, 'Baseline': 4233}"
      ]
     },
     "execution_count": 54,
     "metadata": {},
     "output_type": "execute_result"
    }
   ],
   "source": [
    "wins"
   ]
  },
  {
   "cell_type": "code",
   "execution_count": 57,
   "metadata": {},
   "outputs": [
    {
     "data": {
      "text/plain": [
       "0.5237398739873987"
      ]
     },
     "execution_count": 57,
     "metadata": {},
     "output_type": "execute_result"
    }
   ],
   "source": [
    "wins['name'] / (wins['Baseline'] + wins['name']) # Win percentage"
   ]
  },
  {
   "cell_type": "markdown",
   "metadata": {},
   "source": [
    "# Trying a new strategy - only taking fives if no other scoring dice present"
   ]
  },
  {
   "cell_type": "code",
   "execution_count": 58,
   "metadata": {},
   "outputs": [],
   "source": [
    "class AllRulesThreshForThreeOneOnly5inDireStraits(AllRules):\n",
    "\n",
    "    def __init__(self, name, thresh3, thresh1):\n",
    "        self.name = name\n",
    "        self.score = 0\n",
    "        self.temp_score = 0\n",
    "        self.keeping = []\n",
    "        self.thresh3 = thresh3\n",
    "        self.thresh1 = thresh1\n",
    "\n",
    "    def process_roll(self, roll):\n",
    "        self.kept = 0\n",
    "\n",
    "        roll = self.pull_highs(roll)\n",
    "\n",
    "        roll = self.pull_3oak(roll)\n",
    "\n",
    "\n",
    "        # 1s and 5s:\n",
    "        for d in roll:\n",
    "            if d == 1:\n",
    "                self.keeping.append(1)\n",
    "                self.kept += 1\n",
    "                self.temp_score += 100\n",
    "        for d in roll:\n",
    "            if d == 5 and (self.kept == 0 or self.kept > 2):\n",
    "                self.keeping.append(5)\n",
    "                self.kept += 1\n",
    "                self.temp_score += 50\n",
    "\n",
    "\n",
    "        if (self.kept) == 0:\n",
    "            return (False, True) # Scored no points this roll\n",
    "        if len(self.keeping) == 6:\n",
    "            return (True, False) # Used all 6 dice - must roll again\n",
    "        elif len(self.keeping) == 5 and self.temp_score > self.thresh1:\n",
    "            return (True, False) # One dice left - risk it for the brisket. Not a good idea generally\n",
    "        elif len(self.keeping) > 3:\n",
    "            return (False, False) # Scored points, 2 or fewer dice remain (so don't roll again)\n",
    "        elif len(self.keeping) == 3 and self.temp_score > self.thresh3:\n",
    "            return (False, False) # Don't roll with 3 left if score is above thresh\n",
    "        else:\n",
    "            return (True, False) # Scored points, and there are 3 or more dice to play with - recomment roll again."
   ]
  },
  {
   "cell_type": "code",
   "execution_count": 59,
   "metadata": {},
   "outputs": [],
   "source": [
    "pn = AllRulesThreshForThreeOneOnly5inDireStraits('dump5s', 500, 10000)\n",
    "po = AllRulesThreshForThree('keep5s', 500)"
   ]
  },
  {
   "cell_type": "code",
   "execution_count": 60,
   "metadata": {},
   "outputs": [
    {
     "name": "stdout",
     "output_type": "stream",
     "text": [
      "dump5s      802.5515\n",
      "keep5s      794.5160\n",
      "Baseline    742.7195\n",
      "dtype: float64\n"
     ]
    },
    {
     "data": {
      "text/plain": [
       "{'dump5s': 3779, 'keep5s': 3710, 'Baseline': 3195}"
      ]
     },
     "execution_count": 60,
     "metadata": {},
     "output_type": "execute_result"
    }
   ],
   "source": [
    "wins, scores = compare_players([pn, po, pb], 100000)\n",
    "df = pd.DataFrame(scores)\n",
    "print(df.mean())\n",
    "wins"
   ]
  },
  {
   "cell_type": "code",
   "execution_count": 61,
   "metadata": {},
   "outputs": [
    {
     "name": "stdout",
     "output_type": "stream",
     "text": [
      "dump5s      802.5515\n",
      "keep5s      794.5160\n",
      "Baseline    742.7195\n",
      "dtype: float64\n"
     ]
    }
   ],
   "source": [
    "print(df.mean())"
   ]
  },
  {
   "cell_type": "markdown",
   "metadata": {},
   "source": [
    "First really interesting result for me!"
   ]
  },
  {
   "cell_type": "markdown",
   "metadata": {},
   "source": [
    "# Does risky play pay off? \n",
    "A new player is introduced. With one dice left, this risky player has a go for a 1/3 chance of getting a second roll and thus a high score. "
   ]
  },
  {
   "cell_type": "code",
   "execution_count": 62,
   "metadata": {},
   "outputs": [],
   "source": [
    "class AllRulesThreshForThreeRisks1(AllRules):\n",
    "\n",
    "    def __init__(self, name, thresh3, thresh1):\n",
    "        self.name = name\n",
    "        self.score = 0\n",
    "        self.temp_score = 0\n",
    "        self.keeping = []\n",
    "        self.thresh3 = thresh3\n",
    "        self.thresh1 = thresh1\n",
    "\n",
    "    def process_roll(self, roll):\n",
    "        self.kept = 0\n",
    "\n",
    "        roll = self.pull_highs(roll)\n",
    "\n",
    "        roll = self.pull_3oak(roll)\n",
    "\n",
    "\n",
    "        # 1s and 5s:\n",
    "        for d in roll:\n",
    "            if d == 1:\n",
    "                self.keeping.append(1)\n",
    "                self.kept += 1\n",
    "                self.temp_score += 100\n",
    "        for d in roll:\n",
    "            if d == 5 and (self.kept == 0 or self.kept > 2):\n",
    "                self.keeping.append(5)\n",
    "                self.kept += 1\n",
    "                self.temp_score += 50\n",
    "\n",
    "\n",
    "        if (self.kept) == 0:\n",
    "            return (False, True) # Scored no points this roll\n",
    "        if len(self.keeping) == 6:\n",
    "            return (True, False) # Used all 6 dice - must roll again\n",
    "        elif len(self.keeping) == 5 and self.temp_score < self.thresh1:\n",
    "            return (True, False) # One dice left - risk it for the brisket. Not a good idea generally, but risks if low score\n",
    "        elif len(self.keeping) > 3:\n",
    "            return (False, False) # Scored points, 2 or fewer dice remain (so don't roll again)\n",
    "        elif len(self.keeping) == 3 and self.temp_score > self.thresh3:\n",
    "            return (False, False) # Don't roll with 3 left if score is above thresh\n",
    "        else:\n",
    "            return (True, False) # Scored points, and there are 3 or more dice to play with - recommend roll again."
   ]
  },
  {
   "cell_type": "code",
   "execution_count": 63,
   "metadata": {},
   "outputs": [],
   "source": [
    "prisky = AllRulesThreshForThreeRisks1('risks1', 500, 500)"
   ]
  },
  {
   "cell_type": "code",
   "execution_count": 64,
   "metadata": {},
   "outputs": [
    {
     "name": "stdout",
     "output_type": "stream",
     "text": [
      "dump5s    809.51915\n",
      "keep5s    788.11680\n",
      "risks1    806.96730\n",
      "dtype: float64\n"
     ]
    },
    {
     "data": {
      "text/plain": [
       "{'dump5s': 37451, 'keep5s': 35052, 'risks1': 37333}"
      ]
     },
     "execution_count": 64,
     "metadata": {},
     "output_type": "execute_result"
    }
   ],
   "source": [
    "wins, scores = compare_players([pn, po, prisky], 1000000)\n",
    "df = pd.DataFrame(scores)\n",
    "print(df.mean())\n",
    "wins"
   ]
  },
  {
   "cell_type": "code",
   "execution_count": 108,
   "metadata": {},
   "outputs": [],
   "source": [
    "pn1 = AllRulesThreshForThreeOneOnly5inDireStraits('dump5s1', 500, 10000)\n",
    "pn2 = AllRulesThreshForThreeOneOnly5inDireStraits('dump5s2', 500, 10000)\n",
    "pn3 = AllRulesThreshForThreeOneOnly5inDireStraits('dump5s3', 500, 10000)\n",
    "pn4 = AllRulesThreshForThreeOneOnly5inDireStraits('dump5s4', 500, 10000)\n",
    "pn5 = AllRulesThreshForThreeOneOnly5inDireStraits('dump5s5', 500, 10000)\n",
    "pn6 = AllRulesThreshForThreeOneOnly5inDireStraits('dump5s6', 500, 10000)\n",
    "pns = [pn1, pn2, pn3, pn4, pn5, pn6]\n",
    "po = AllRulesThreshForThreeOne('keep5s', 500, 10000)\n"
   ]
  },
  {
   "cell_type": "code",
   "execution_count": 109,
   "metadata": {},
   "outputs": [
    {
     "name": "stdout",
     "output_type": "stream",
     "text": [
      "T: 250, Score: 806.5575, Win Percentage: 0.14400627820286444\n",
      "T: 300, Score: 806.114, Win Percentage: 0.14294136914510316\n",
      "T: 400, Score: 806.4185, Win Percentage: 0.14531384350816853\n",
      "T: 500, Score: 813.452, Win Percentage: 0.14512115258677144\n",
      "T: 600, Score: 813.5875, Win Percentage: 0.14729844228638467\n",
      "T: 700, Score: 803.6135, Win Percentage: 0.14635579937304075\n",
      "T: 1000, Score: 790.662, Win Percentage: 0.14083766191071076\n"
     ]
    }
   ],
   "source": [
    "ts = [250, 300, 400, 500, 600, 700, 1000]\n",
    "for t in ts:\n",
    "    prisky = AllRulesThreshForThreeRisks1('risks1', 500, t)\n",
    "    wins, scores = compare_players([pn1, pn2, pn3, pn4, pn5, pn6, prisky], 100000)\n",
    "    df = pd.DataFrame(scores)\n",
    "    print('T: '+str(t) + ', Score: ' + str(df.mean()['risks1']) + ', Win Percentage: ' + str(wins['risks1']/sum(wins.values())))"
   ]
  },
  {
   "cell_type": "code",
   "execution_count": 112,
   "metadata": {},
   "outputs": [
    {
     "data": {
      "text/plain": [
       "{'dump5s1': 65559,\n",
       " 'dump5s2': 64978,\n",
       " 'dump5s3': 65293,\n",
       " 'dump5s4': 65080,\n",
       " 'dump5s5': 65238,\n",
       " 'dump5s6': 65160,\n",
       " 'risks1': 66318}"
      ]
     },
     "execution_count": 112,
     "metadata": {},
     "output_type": "execute_result"
    }
   ],
   "source": [
    "prisky = AllRulesThreshForThreeRisks1('risks1', 500, 700)\n",
    "wins, scores = compare_players([pn1, pn2, pn3, pn4, pn5, pn6, prisky], 3000000)\n",
    "wins"
   ]
  },
  {
   "cell_type": "code",
   "execution_count": 113,
   "metadata": {},
   "outputs": [
    {
     "data": {
      "text/plain": [
       "dump5s1    807.679317\n",
       "dump5s2    806.118700\n",
       "dump5s3    806.327633\n",
       "dump5s4    806.029383\n",
       "dump5s5    806.765667\n",
       "dump5s6    807.170067\n",
       "risks1     802.735333\n",
       "dtype: float64"
      ]
     },
     "execution_count": 113,
     "metadata": {},
     "output_type": "execute_result"
    }
   ],
   "source": [
    "df = pd.DataFrame(scores)\n",
    "df.mean()"
   ]
  },
  {
   "cell_type": "code",
   "execution_count": null,
   "metadata": {},
   "outputs": [],
   "source": []
  },
  {
   "cell_type": "code",
   "execution_count": 116,
   "metadata": {},
   "outputs": [
    {
     "data": {
      "text/plain": [
       "{'dump5s1': 23411, 'risks1': 23071}"
      ]
     },
     "execution_count": 116,
     "metadata": {},
     "output_type": "execute_result"
    }
   ],
   "source": [
    "prisky = AllRulesThreshForThreeRisks1('risks1', 500, 700)\n",
    "wins2, scores2 = compare_players([pn1, prisky], 500000)\n",
    "wins2"
   ]
  },
  {
   "cell_type": "code",
   "execution_count": 117,
   "metadata": {},
   "outputs": [
    {
     "data": {
      "text/plain": [
       "dump5s1    804.3118\n",
       "risks1     801.2165\n",
       "dtype: float64"
      ]
     },
     "execution_count": 117,
     "metadata": {},
     "output_type": "execute_result"
    }
   ],
   "source": [
    "df2 = pd.DataFrame(scores2)\n",
    "df2.mean()"
   ]
  },
  {
   "cell_type": "code",
   "execution_count": null,
   "metadata": {},
   "outputs": [],
   "source": []
  }
 ],
 "metadata": {
  "kernelspec": {
   "display_name": "Python 3",
   "language": "python",
   "name": "python3"
  },
  "language_info": {
   "codemirror_mode": {
    "name": "ipython",
    "version": 3
   },
   "file_extension": ".py",
   "mimetype": "text/x-python",
   "name": "python",
   "nbconvert_exporter": "python",
   "pygments_lexer": "ipython3",
   "version": "3.6.7"
  }
 },
 "nbformat": 4,
 "nbformat_minor": 2
}
